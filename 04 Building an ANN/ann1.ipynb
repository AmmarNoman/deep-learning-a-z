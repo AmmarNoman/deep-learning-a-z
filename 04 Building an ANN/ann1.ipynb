{
 "cells": [
  {
   "cell_type": "markdown",
   "metadata": {},
   "source": [
    "# part1"
   ]
  },
  {
   "cell_type": "code",
   "execution_count": 2,
   "metadata": {},
   "outputs": [],
   "source": [
    "# Importing the libraries\n",
    "import numpy as np\n",
    "import matplotlib.pyplot as plt\n",
    "import pandas as pd"
   ]
  },
  {
   "cell_type": "code",
   "execution_count": 3,
   "metadata": {},
   "outputs": [],
   "source": [
    "# Importing the dataset\n",
    "dataset = pd.read_csv('churn_Modelling.csv')\n",
    "X = dataset.iloc[:, 3:13].values\n",
    "y = dataset.iloc[:, 13].values"
   ]
  },
  {
   "cell_type": "code",
   "execution_count": 4,
   "metadata": {},
   "outputs": [
    {
     "name": "stderr",
     "output_type": "stream",
     "text": [
      "C:\\Users\\Gunjan Mimo\\Anaconda3\\lib\\site-packages\\sklearn\\preprocessing\\_encoders.py:415: FutureWarning: The handling of integer data will change in version 0.22. Currently, the categories are determined based on the range [0, max(values)], while in the future they will be determined based on the unique values.\n",
      "If you want the future behaviour and silence this warning, you can specify \"categories='auto'\".\n",
      "In case you used a LabelEncoder before this OneHotEncoder to convert the categories to integers, then you can now use the OneHotEncoder directly.\n",
      "  warnings.warn(msg, FutureWarning)\n",
      "C:\\Users\\Gunjan Mimo\\Anaconda3\\lib\\site-packages\\sklearn\\preprocessing\\_encoders.py:451: DeprecationWarning: The 'categorical_features' keyword is deprecated in version 0.20 and will be removed in 0.22. You can use the ColumnTransformer instead.\n",
      "  \"use the ColumnTransformer instead.\", DeprecationWarning)\n"
     ]
    }
   ],
   "source": [
    "# Encoding categorical data\n",
    "from sklearn.preprocessing import LabelEncoder, OneHotEncoder\n",
    "#for country\n",
    "labelencoder_X_1 = LabelEncoder()\n",
    "X[:, 1] = labelencoder_X_1.fit_transform(X[:, 1])\n",
    "#for gender\n",
    "labelencoder_X_2 = LabelEncoder()\n",
    "X[:, 2] = labelencoder_X_2.fit_transform(X[:, 2])\n",
    "onehotencoder = OneHotEncoder(categorical_features = [1])\n",
    "X = onehotencoder.fit_transform(X).toarray()\n",
    "X=X[:,1:]"
   ]
  },
  {
   "cell_type": "code",
   "execution_count": 5,
   "metadata": {},
   "outputs": [],
   "source": [
    "# Splitting the dataset into the Training set and Test set\n",
    "from sklearn.model_selection import train_test_split\n",
    "X_train, X_test, y_train, y_test = train_test_split(X, y, test_size = 0.2, random_state = 0)"
   ]
  },
  {
   "cell_type": "code",
   "execution_count": 6,
   "metadata": {},
   "outputs": [],
   "source": [
    "# Feature Scaling\n",
    "from sklearn.preprocessing import StandardScaler\n",
    "sc = StandardScaler()\n",
    "X_train = sc.fit_transform(X_train)\n",
    "X_test = sc.transform(X_test)"
   ]
  },
  {
   "cell_type": "markdown",
   "metadata": {},
   "source": [
    "# ****part 2****"
   ]
  },
  {
   "cell_type": "code",
   "execution_count": 7,
   "metadata": {},
   "outputs": [
    {
     "name": "stderr",
     "output_type": "stream",
     "text": [
      "Using TensorFlow backend.\n"
     ]
    }
   ],
   "source": [
    "#importing the keras libraries and packages\n",
    "import keras\n",
    "from keras.models import Sequential\n",
    "from keras.layers import Dense"
   ]
  },
  {
   "cell_type": "code",
   "execution_count": 8,
   "metadata": {},
   "outputs": [],
   "source": [
    "#initializing the ANN\n",
    "classifier= Sequential()"
   ]
  },
  {
   "cell_type": "code",
   "execution_count": 9,
   "metadata": {},
   "outputs": [
    {
     "name": "stderr",
     "output_type": "stream",
     "text": [
      "C:\\Users\\Gunjan Mimo\\Anaconda3\\lib\\site-packages\\ipykernel_launcher.py:2: UserWarning: Update your `Dense` call to the Keras 2 API: `Dense(activation=\"relu\", input_dim=11, units=6, kernel_initializer=\"uniform\")`\n",
      "  \n"
     ]
    }
   ],
   "source": [
    "#adding input layer and the first hidden layer\n",
    "classifier.add(Dense(output_dim=6, init=\"uniform\",activation=\"relu\",input_dim=11))"
   ]
  },
  {
   "cell_type": "code",
   "execution_count": 10,
   "metadata": {},
   "outputs": [
    {
     "name": "stderr",
     "output_type": "stream",
     "text": [
      "C:\\Users\\Gunjan Mimo\\Anaconda3\\lib\\site-packages\\ipykernel_launcher.py:1: UserWarning: Update your `Dense` call to the Keras 2 API: `Dense(activation=\"relu\", units=6, kernel_initializer=\"uniform\")`\n",
      "  \"\"\"Entry point for launching an IPython kernel.\n"
     ]
    }
   ],
   "source": [
    "classifier.add(Dense(output_dim=6, init=\"uniform\",activation=\"relu\"))"
   ]
  },
  {
   "cell_type": "code",
   "execution_count": 11,
   "metadata": {},
   "outputs": [
    {
     "name": "stderr",
     "output_type": "stream",
     "text": [
      "C:\\Users\\Gunjan Mimo\\Anaconda3\\lib\\site-packages\\ipykernel_launcher.py:2: UserWarning: Update your `Dense` call to the Keras 2 API: `Dense(activation=\"sigmoid\", units=1, kernel_initializer=\"uniform\")`\n",
      "  \n"
     ]
    }
   ],
   "source": [
    "#adding output layer\n",
    "classifier.add(Dense(output_dim=1, init=\"uniform\",activation=\"sigmoid\"))"
   ]
  },
  {
   "cell_type": "code",
   "execution_count": 12,
   "metadata": {},
   "outputs": [
    {
     "name": "stdout",
     "output_type": "stream",
     "text": [
      "WARNING:tensorflow:From C:\\Users\\Gunjan Mimo\\Anaconda3\\lib\\site-packages\\tensorflow\\python\\ops\\nn_impl.py:180: add_dispatch_support.<locals>.wrapper (from tensorflow.python.ops.array_ops) is deprecated and will be removed in a future version.\n",
      "Instructions for updating:\n",
      "Use tf.where in 2.0, which has the same broadcast rule as np.where\n"
     ]
    }
   ],
   "source": [
    "classifier.compile(optimizer=\"adam\",loss=\"binary_crossentropy\",metrics=['accuracy'])"
   ]
  },
  {
   "cell_type": "code",
   "execution_count": 13,
   "metadata": {},
   "outputs": [
    {
     "name": "stderr",
     "output_type": "stream",
     "text": [
      "C:\\Users\\Gunjan Mimo\\Anaconda3\\lib\\site-packages\\ipykernel_launcher.py:2: UserWarning: The `nb_epoch` argument in `fit` has been renamed `epochs`.\n",
      "  \n"
     ]
    },
    {
     "name": "stdout",
     "output_type": "stream",
     "text": [
      "WARNING:tensorflow:From C:\\Users\\Gunjan Mimo\\Anaconda3\\lib\\site-packages\\keras\\backend\\tensorflow_backend.py:422: The name tf.global_variables is deprecated. Please use tf.compat.v1.global_variables instead.\n",
      "\n",
      "Epoch 1/100\n",
      "8000/8000 [==============================] - 2s 243us/step - loss: 0.4872 - accuracy: 0.7962\n",
      "Epoch 2/100\n",
      "8000/8000 [==============================] - 1s 110us/step - loss: 0.4268 - accuracy: 0.7960\n",
      "Epoch 3/100\n",
      "8000/8000 [==============================] - 1s 113us/step - loss: 0.4204 - accuracy: 0.8104\n",
      "Epoch 4/100\n",
      "8000/8000 [==============================] - 1s 112us/step - loss: 0.4150 - accuracy: 0.8292\n",
      "Epoch 5/100\n",
      "8000/8000 [==============================] - 1s 111us/step - loss: 0.4104 - accuracy: 0.8332\n",
      "Epoch 6/100\n",
      "8000/8000 [==============================] - 1s 111us/step - loss: 0.4066 - accuracy: 0.8324\n",
      "Epoch 7/100\n",
      "8000/8000 [==============================] - 1s 112us/step - loss: 0.4048 - accuracy: 0.8339\n",
      "Epoch 8/100\n",
      "8000/8000 [==============================] - 1s 124us/step - loss: 0.4035 - accuracy: 0.8353\n",
      "Epoch 9/100\n",
      "8000/8000 [==============================] - 1s 113us/step - loss: 0.4027 - accuracy: 0.8339\n",
      "Epoch 10/100\n",
      "8000/8000 [==============================] - 1s 115us/step - loss: 0.4015 - accuracy: 0.8347\n",
      "Epoch 11/100\n",
      "8000/8000 [==============================] - 1s 111us/step - loss: 0.4013 - accuracy: 0.8346\n",
      "Epoch 12/100\n",
      "8000/8000 [==============================] - 1s 120us/step - loss: 0.4001 - accuracy: 0.8350\n",
      "Epoch 13/100\n",
      "8000/8000 [==============================] - 1s 114us/step - loss: 0.3997 - accuracy: 0.8353\n",
      "Epoch 14/100\n",
      "8000/8000 [==============================] - 1s 119us/step - loss: 0.3988 - accuracy: 0.8349\n",
      "Epoch 15/100\n",
      "8000/8000 [==============================] - 1s 120us/step - loss: 0.3986 - accuracy: 0.8346\n",
      "Epoch 16/100\n",
      "8000/8000 [==============================] - 1s 113us/step - loss: 0.3987 - accuracy: 0.8339\n",
      "Epoch 17/100\n",
      "8000/8000 [==============================] - 1s 115us/step - loss: 0.3979 - accuracy: 0.8355\n",
      "Epoch 18/100\n",
      "8000/8000 [==============================] - 1s 163us/step - loss: 0.3974 - accuracy: 0.8345\n",
      "Epoch 19/100\n",
      "8000/8000 [==============================] - 1s 182us/step - loss: 0.3978 - accuracy: 0.8361\n",
      "Epoch 20/100\n",
      "8000/8000 [==============================] - 2s 209us/step - loss: 0.3972 - accuracy: 0.8350\n",
      "Epoch 21/100\n",
      "8000/8000 [==============================] - 2s 246us/step - loss: 0.3972 - accuracy: 0.8339\n",
      "Epoch 22/100\n",
      "8000/8000 [==============================] - 2s 195us/step - loss: 0.3970 - accuracy: 0.8351\n",
      "Epoch 23/100\n",
      "8000/8000 [==============================] - 2s 188us/step - loss: 0.3964 - accuracy: 0.8360\n",
      "Epoch 24/100\n",
      "8000/8000 [==============================] - 2s 196us/step - loss: 0.3968 - accuracy: 0.8350\n",
      "Epoch 25/100\n",
      "8000/8000 [==============================] - 1s 186us/step - loss: 0.3968 - accuracy: 0.8355\n",
      "Epoch 26/100\n",
      "8000/8000 [==============================] - 1s 149us/step - loss: 0.3960 - accuracy: 0.8351\n",
      "Epoch 27/100\n",
      "8000/8000 [==============================] - 1s 156us/step - loss: 0.3963 - accuracy: 0.8354\n",
      "Epoch 28/100\n",
      "8000/8000 [==============================] - 1s 153us/step - loss: 0.3959 - accuracy: 0.8349\n",
      "Epoch 29/100\n",
      "8000/8000 [==============================] - 1s 143us/step - loss: 0.3961 - accuracy: 0.8351\n",
      "Epoch 30/100\n",
      "8000/8000 [==============================] - 1s 137us/step - loss: 0.3959 - accuracy: 0.8347\n",
      "Epoch 31/100\n",
      "8000/8000 [==============================] - 1s 143us/step - loss: 0.3957 - accuracy: 0.8357\n",
      "Epoch 32/100\n",
      "8000/8000 [==============================] - 1s 141us/step - loss: 0.3953 - accuracy: 0.8354\n",
      "Epoch 33/100\n",
      "8000/8000 [==============================] - 1s 184us/step - loss: 0.3954 - accuracy: 0.8363\n",
      "Epoch 34/100\n",
      "8000/8000 [==============================] - 1s 164us/step - loss: 0.3952 - accuracy: 0.8353\n",
      "Epoch 35/100\n",
      "8000/8000 [==============================] - 1s 126us/step - loss: 0.3950 - accuracy: 0.8374\n",
      "Epoch 36/100\n",
      "8000/8000 [==============================] - 1s 165us/step - loss: 0.3952 - accuracy: 0.8370\n",
      "Epoch 37/100\n",
      "8000/8000 [==============================] - 1s 153us/step - loss: 0.3949 - accuracy: 0.8367\n",
      "Epoch 38/100\n",
      "8000/8000 [==============================] - 1s 164us/step - loss: 0.3949 - accuracy: 0.8360\n",
      "Epoch 39/100\n",
      "8000/8000 [==============================] - 1s 139us/step - loss: 0.3947 - accuracy: 0.8361\n",
      "Epoch 40/100\n",
      "8000/8000 [==============================] - 1s 156us/step - loss: 0.3944 - accuracy: 0.8354\n",
      "Epoch 41/100\n",
      "8000/8000 [==============================] - 1s 187us/step - loss: 0.3946 - accuracy: 0.8367\n",
      "Epoch 42/100\n",
      "8000/8000 [==============================] - 2s 217us/step - loss: 0.3948 - accuracy: 0.8367\n",
      "Epoch 43/100\n",
      "8000/8000 [==============================] - 2s 197us/step - loss: 0.3944 - accuracy: 0.8357\n",
      "Epoch 44/100\n",
      "8000/8000 [==============================] - 1s 174us/step - loss: 0.3948 - accuracy: 0.8386\n",
      "Epoch 45/100\n",
      "8000/8000 [==============================] - 1s 162us/step - loss: 0.3942 - accuracy: 0.8356\n",
      "Epoch 46/100\n",
      "8000/8000 [==============================] - 1s 138us/step - loss: 0.3941 - accuracy: 0.8364\n",
      "Epoch 47/100\n",
      "8000/8000 [==============================] - 1s 139us/step - loss: 0.3942 - accuracy: 0.8370\n",
      "Epoch 48/100\n",
      "8000/8000 [==============================] - 1s 141us/step - loss: 0.3941 - accuracy: 0.8375\n",
      "Epoch 49/100\n",
      "8000/8000 [==============================] - 1s 139us/step - loss: 0.3943 - accuracy: 0.8365\n",
      "Epoch 50/100\n",
      "8000/8000 [==============================] - 1s 136us/step - loss: 0.3943 - accuracy: 0.8374\n",
      "Epoch 51/100\n",
      "8000/8000 [==============================] - 1s 144us/step - loss: 0.3945 - accuracy: 0.8372\n",
      "Epoch 52/100\n",
      "8000/8000 [==============================] - 1s 125us/step - loss: 0.3939 - accuracy: 0.8371\n",
      "Epoch 53/100\n",
      "8000/8000 [==============================] - 1s 136us/step - loss: 0.3943 - accuracy: 0.8384\n",
      "Epoch 54/100\n",
      "8000/8000 [==============================] - 1s 140us/step - loss: 0.3941 - accuracy: 0.8374\n",
      "Epoch 55/100\n",
      "8000/8000 [==============================] - 1s 162us/step - loss: 0.3937 - accuracy: 0.8376\n",
      "Epoch 56/100\n",
      "8000/8000 [==============================] - 1s 119us/step - loss: 0.3941 - accuracy: 0.8381\n",
      "Epoch 57/100\n",
      "8000/8000 [==============================] - 1s 132us/step - loss: 0.3942 - accuracy: 0.8357\n",
      "Epoch 58/100\n",
      "8000/8000 [==============================] - 1s 131us/step - loss: 0.3938 - accuracy: 0.8379\n",
      "Epoch 59/100\n",
      "8000/8000 [==============================] - 1s 119us/step - loss: 0.3940 - accuracy: 0.8379\n",
      "Epoch 60/100\n",
      "8000/8000 [==============================] - 1s 121us/step - loss: 0.3940 - accuracy: 0.8367\n",
      "Epoch 61/100\n",
      "8000/8000 [==============================] - 1s 117us/step - loss: 0.3932 - accuracy: 0.8357\n",
      "Epoch 62/100\n",
      "8000/8000 [==============================] - 1s 127us/step - loss: 0.3938 - accuracy: 0.8370\n",
      "Epoch 63/100\n",
      "8000/8000 [==============================] - 1s 123us/step - loss: 0.3933 - accuracy: 0.8374\n",
      "Epoch 64/100\n",
      "8000/8000 [==============================] - 1s 127us/step - loss: 0.3930 - accuracy: 0.8378\n",
      "Epoch 65/100\n",
      "8000/8000 [==============================] - 1s 117us/step - loss: 0.3937 - accuracy: 0.8376\n",
      "Epoch 66/100\n",
      "8000/8000 [==============================] - 1s 116us/step - loss: 0.3936 - accuracy: 0.8384\n",
      "Epoch 67/100\n",
      "8000/8000 [==============================] - 1s 113us/step - loss: 0.3934 - accuracy: 0.8361\n",
      "Epoch 68/100\n",
      "8000/8000 [==============================] - 1s 146us/step - loss: 0.3929 - accuracy: 0.8391\n",
      "Epoch 69/100\n",
      "8000/8000 [==============================] - 1s 134us/step - loss: 0.3936 - accuracy: 0.8391\n",
      "Epoch 70/100\n",
      "8000/8000 [==============================] - 1s 181us/step - loss: 0.3932 - accuracy: 0.8378\n",
      "Epoch 71/100\n",
      "8000/8000 [==============================] - 1s 111us/step - loss: 0.3929 - accuracy: 0.8394\n",
      "Epoch 72/100\n",
      "8000/8000 [==============================] - 1s 118us/step - loss: 0.3927 - accuracy: 0.8397\n",
      "Epoch 73/100\n",
      "8000/8000 [==============================] - 1s 123us/step - loss: 0.3924 - accuracy: 0.8391\n",
      "Epoch 74/100\n",
      "8000/8000 [==============================] - 1s 117us/step - loss: 0.3913 - accuracy: 0.8391\n",
      "Epoch 75/100\n",
      "8000/8000 [==============================] - 1s 120us/step - loss: 0.3910 - accuracy: 0.8385\n",
      "Epoch 76/100\n",
      "8000/8000 [==============================] - 1s 118us/step - loss: 0.3895 - accuracy: 0.8384\n",
      "Epoch 77/100\n",
      "8000/8000 [==============================] - 1s 120us/step - loss: 0.3872 - accuracy: 0.83810s\n",
      "Epoch 78/100\n",
      "8000/8000 [==============================] - 1s 141us/step - loss: 0.3842 - accuracy: 0.8381\n",
      "Epoch 79/100\n",
      "8000/8000 [==============================] - 1s 118us/step - loss: 0.3795 - accuracy: 0.8393\n",
      "Epoch 80/100\n",
      "8000/8000 [==============================] - 1s 124us/step - loss: 0.3748 - accuracy: 0.8407\n",
      "Epoch 81/100\n",
      "8000/8000 [==============================] - 1s 127us/step - loss: 0.3702 - accuracy: 0.8456\n",
      "Epoch 82/100\n",
      "8000/8000 [==============================] - 1s 118us/step - loss: 0.3667 - accuracy: 0.8478\n",
      "Epoch 83/100\n",
      "8000/8000 [==============================] - 1s 130us/step - loss: 0.3638 - accuracy: 0.8497\n",
      "Epoch 84/100\n",
      "8000/8000 [==============================] - 1s 140us/step - loss: 0.3612 - accuracy: 0.8531\n",
      "Epoch 85/100\n",
      "8000/8000 [==============================] - 1s 142us/step - loss: 0.3586 - accuracy: 0.8565\n",
      "Epoch 86/100\n",
      "8000/8000 [==============================] - 1s 119us/step - loss: 0.3572 - accuracy: 0.8569\n",
      "Epoch 87/100\n",
      "8000/8000 [==============================] - 1s 115us/step - loss: 0.3552 - accuracy: 0.8575\n",
      "Epoch 88/100\n",
      "8000/8000 [==============================] - 1s 115us/step - loss: 0.3540 - accuracy: 0.8584\n",
      "Epoch 89/100\n",
      "8000/8000 [==============================] - 1s 119us/step - loss: 0.3539 - accuracy: 0.8575\n",
      "Epoch 90/100\n",
      "8000/8000 [==============================] - 1s 142us/step - loss: 0.3525 - accuracy: 0.8595\n",
      "Epoch 91/100\n",
      "8000/8000 [==============================] - 1s 130us/step - loss: 0.3524 - accuracy: 0.8580\n",
      "Epoch 92/100\n",
      "8000/8000 [==============================] - 1s 117us/step - loss: 0.3519 - accuracy: 0.8597\n",
      "Epoch 93/100\n",
      "8000/8000 [==============================] - 1s 116us/step - loss: 0.3514 - accuracy: 0.8610\n",
      "Epoch 94/100\n",
      "8000/8000 [==============================] - 1s 118us/step - loss: 0.3510 - accuracy: 0.8601\n",
      "Epoch 95/100\n",
      "8000/8000 [==============================] - 1s 118us/step - loss: 0.3506 - accuracy: 0.8596\n",
      "Epoch 96/100\n",
      "8000/8000 [==============================] - 1s 119us/step - loss: 0.3500 - accuracy: 0.8608\n",
      "Epoch 97/100\n",
      "8000/8000 [==============================] - 1s 117us/step - loss: 0.3500 - accuracy: 0.8593\n",
      "Epoch 98/100\n",
      "8000/8000 [==============================] - 1s 118us/step - loss: 0.3490 - accuracy: 0.8612\n",
      "Epoch 99/100\n",
      "8000/8000 [==============================] - 1s 119us/step - loss: 0.3494 - accuracy: 0.8599\n",
      "Epoch 100/100\n",
      "8000/8000 [==============================] - 1s 133us/step - loss: 0.3495 - accuracy: 0.8624\n"
     ]
    },
    {
     "data": {
      "text/plain": [
       "<keras.callbacks.callbacks.History at 0x1c06a642948>"
      ]
     },
     "execution_count": 13,
     "metadata": {},
     "output_type": "execute_result"
    }
   ],
   "source": [
    "#fitting the ann to the training set\n",
    "classifier.fit(X_train,y_train,batch_size=10,nb_epoch=100)"
   ]
  },
  {
   "cell_type": "code",
   "execution_count": 14,
   "metadata": {},
   "outputs": [],
   "source": [
    "# Predicting the Test set results\n",
    "y_pred = classifier.predict(X_test)"
   ]
  },
  {
   "cell_type": "code",
   "execution_count": null,
   "metadata": {},
   "outputs": [],
   "source": []
  },
  {
   "cell_type": "markdown",
   "metadata": {},
   "source": [
    "# part 3"
   ]
  },
  {
   "cell_type": "code",
   "execution_count": 19,
   "metadata": {},
   "outputs": [],
   "source": [
    "# Predicting the Test set results\n",
    "y_pred = classifier.predict(X_test)\n",
    "y_pred = (y_pred > 0.5)"
   ]
  },
  {
   "cell_type": "code",
   "execution_count": 20,
   "metadata": {},
   "outputs": [],
   "source": [
    "# Making the Confusion Matrix\n",
    "from sklearn.metrics import confusion_matrix\n",
    "cm = confusion_matrix(y_test, y_pred)"
   ]
  },
  {
   "cell_type": "code",
   "execution_count": 21,
   "metadata": {},
   "outputs": [
    {
     "data": {
      "text/plain": [
       "array([[1560,   35],\n",
       "       [ 231,  174]], dtype=int64)"
      ]
     },
     "execution_count": 21,
     "metadata": {},
     "output_type": "execute_result"
    }
   ],
   "source": [
    "cm"
   ]
  },
  {
   "cell_type": "code",
   "execution_count": null,
   "metadata": {},
   "outputs": [],
   "source": []
  }
 ],
 "metadata": {
  "kernelspec": {
   "display_name": "Python 3",
   "language": "python",
   "name": "python3"
  },
  "language_info": {
   "codemirror_mode": {
    "name": "ipython",
    "version": 3
   },
   "file_extension": ".py",
   "mimetype": "text/x-python",
   "name": "python",
   "nbconvert_exporter": "python",
   "pygments_lexer": "ipython3",
   "version": "3.7.4"
  }
 },
 "nbformat": 4,
 "nbformat_minor": 4
}
